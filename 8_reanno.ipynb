{
 "cells": [
  {
   "cell_type": "code",
   "execution_count": 1,
   "metadata": {},
   "outputs": [],
   "source": [
    "import scanpy as sc\n",
    "import anndata as ad\n",
    "import pandas as pd\n",
    "import os\n",
    "import numpy as np"
   ]
  },
  {
   "cell_type": "markdown",
   "metadata": {},
   "source": [
    "## LOADING DATA"
   ]
  },
  {
   "cell_type": "code",
   "execution_count": 2,
   "metadata": {},
   "outputs": [],
   "source": [
    "data_path = '/data/hadjantalab/lucas/atlas/data/reannotation'"
   ]
  },
  {
   "cell_type": "code",
   "execution_count": 3,
   "metadata": {},
   "outputs": [],
   "source": [
    "file_path = os.path.join(data_path, 'reanno_endo_cohort55-775_nn-transfer.csv')\n",
    "reanno_endo_cohort55_775_nn_transfer = pd.read_table(file_path, sep = ',', index_col = 'cell' )\n",
    "reanno_endo_cohort55_775_nn_transfer = reanno_endo_cohort55_775_nn_transfer.dropna()"
   ]
  },
  {
   "cell_type": "code",
   "execution_count": 4,
   "metadata": {},
   "outputs": [],
   "source": [
    "file_path = os.path.join(data_path, 'reanno_endo_cohort80-95_nn-transfer.csv')\n",
    "reanno_endo_cohort80_95_nn_transfer = pd.read_table(file_path, sep = ',', index_col = 'cell' )\n",
    "reanno_endo_cohort80_95_nn_transfer = reanno_endo_cohort80_95_nn_transfer.dropna()"
   ]
  },
  {
   "cell_type": "code",
   "execution_count": 5,
   "metadata": {},
   "outputs": [],
   "source": [
    "file_path = os.path.join(data_path, 'reanno_meso_cohort55-775_nn-transfer.csv')\n",
    "reanno_meso_cohort55_775_nn_transfer = pd.read_table(file_path, sep = ',', index_col = 'cell' )\n",
    "reanno_meso_cohort55_775_nn_transfer = reanno_meso_cohort55_775_nn_transfer.dropna()"
   ]
  },
  {
   "cell_type": "code",
   "execution_count": 6,
   "metadata": {},
   "outputs": [],
   "source": [
    "file_path = os.path.join(data_path, 'reanno_meso_cohort80-95_nn-transfer.csv')\n",
    "reanno_meso_cohort80_95_nn_transfer = pd.read_table(file_path, sep = ',', index_col = 'cell' )\n",
    "reanno_meso_cohort80_95_nn_transfer = reanno_meso_cohort80_95_nn_transfer.dropna()"
   ]
  },
  {
   "cell_type": "code",
   "execution_count": 42,
   "metadata": {},
   "outputs": [],
   "source": [
    "nowotschin_blood = pd.DataFrame(adata.obs.loc[adata.obs['celltype_nowotschin'] == 'Blood', 'celltype_nowotschin'].copy())\n",
    "nowotschin_blood['nn_transfer'] = nowotschin_blood['celltype_nowotschin'].copy()\n",
    "del nowotschin_blood['celltype_nowotschin']\n",
    "nowotschin_blood['nn_transfer'] = 'Erythroid'"
   ]
  },
  {
   "cell_type": "code",
   "execution_count": 22,
   "metadata": {},
   "outputs": [],
   "source": [
    "data_path = '/data/hadjantalab/lucas/atlas/data'\n",
    "file_path = os.path.join(data_path, 'adata.h5ad')\n",
    "adata = ad.read_h5ad(file_path)"
   ]
  },
  {
   "cell_type": "markdown",
   "metadata": {},
   "source": [
    "## ADDING TO ADATA"
   ]
  },
  {
   "cell_type": "code",
   "execution_count": 43,
   "metadata": {},
   "outputs": [],
   "source": [
    "reanno = pd.concat([reanno_endo_cohort55_775_nn_transfer, reanno_endo_cohort80_95_nn_transfer, reanno_meso_cohort55_775_nn_transfer, reanno_meso_cohort80_95_nn_transfer, nowotschin_blood])"
   ]
  },
  {
   "cell_type": "code",
   "execution_count": 45,
   "metadata": {},
   "outputs": [],
   "source": [
    "## CREATING NEW ANNOTATION COLUMN AND FILLING IT WITH VALUES\n",
    "\n",
    "adata.obs['annotation'] = 'to_be_determined'\n",
    "adata.obs['annotation'] = adata.obs['annotation'].astype('object')\n",
    "\n",
    "# Use .loc to modify the 'annotation' column for rows where 'celltype_nowotschin' is not 'unknown'\n",
    "adata.obs.loc[adata.obs['celltype_nowotschin'] != 'unknown', 'annotation'] = \\\n",
    "    adata.obs.loc[adata.obs['celltype_nowotschin'] != 'unknown', 'celltype_nowotschin']\n",
    "\n",
    "# Use .loc to modify the 'annotation' column for rows where 'celltype_rosshandler' is not 'unknown'\n",
    "adata.obs.loc[adata.obs['celltype_rosshandler'] != 'unknown', 'annotation'] = \\\n",
    "    adata.obs.loc[adata.obs['celltype_rosshandler'] != 'unknown', 'celltype_rosshandler']\n"
   ]
  },
  {
   "cell_type": "code",
   "execution_count": 46,
   "metadata": {},
   "outputs": [
    {
     "name": "stdout",
     "output_type": "stream",
     "text": [
      "Allantois                                          8515\n",
      "Allantois endothelium                              2689\n",
      "Amniotic ectoderm                                  3140\n",
      "Anterior Primitive Streak                          1787\n",
      "Anterior cardiopharyngeal progenitors              1698\n",
      "Anterior somitic tissues                           3784\n",
      "Blood                                              1898\n",
      "Blood progenitors                                  2642\n",
      "Branchial arch neural crest                        7303\n",
      "Cardiomyocytes FHF 1                               2619\n",
      "Cardiomyocytes FHF 2                               2505\n",
      "Cardiomyocytes SHF 1                               2023\n",
      "Cardiomyocytes SHF 2                               1990\n",
      "Cardiopharyngeal progenitors                       1530\n",
      "Cardiopharyngeal progenitors FHF                   3058\n",
      "Cardiopharyngeal progenitors SHF                   5151\n",
      "Caudal epiblast                                    3674\n",
      "Caudal mesoderm                                    3310\n",
      "Chorioallantoic-derived erythroid progenitors       918\n",
      "Cranial mesoderm                                   2704\n",
      "DE                                                 3554\n",
      "Dermomyotome                                       6319\n",
      "Dorsal hindbrain progenitors                       7253\n",
      "Dorsal midbrain neurons                            2250\n",
      "Dorsal spinal cord progenitors                    10381\n",
      "EMP                                                2132\n",
      "EPI                                                8969\n",
      "Early dorsal forebrain progenitors                  190\n",
      "Ectoderm                                           6550\n",
      "Embryo proper endothelium                          3466\n",
      "Embryo proper mesothelium                          3856\n",
      "Endocardium                                        2193\n",
      "Endothelial                                         987\n",
      "Endotome                                           4764\n",
      "Epiblast                                          12088\n",
      "Epicardium                                         3042\n",
      "Epidermis                                          3542\n",
      "Erythroid                                         38975\n",
      "ExE                                                4936\n",
      "ExE ectoderm                                      10389\n",
      "ExE endoderm                                      15635\n",
      "Foregut                                            2372\n",
      "Forelimb                                            935\n",
      "Frontonasal mesenchyme                             2126\n",
      "GermCells                                           226\n",
      "Gut tube                                           2892\n",
      "Gut tube:DE:Colon                                    28\n",
      "Gut tube:DE:Liver                                   190\n",
      "Gut tube:DE:Lung                                   2443\n",
      "Gut tube:DE:Pancreas                                511\n",
      "Gut tube:DE:Small int                               901\n",
      "Gut tube:DE:Thymus                                 3443\n",
      "Gut tube:DE:Thyroid                                1255\n",
      "Gut tube:VE:Colon                                  2414\n",
      "Gut tube:VE:Liver                                  1207\n",
      "Gut tube:VE:Lung                                    930\n",
      "Gut tube:VE:Pancreas                               5291\n",
      "Gut tube:VE:Small int                              2700\n",
      "Gut tube:VE:Thymus                                  154\n",
      "Gut tube:VE:Thyroid                                  11\n",
      "Haematoendothelial progenitors                     1444\n",
      "Hindbrain floor plate                              4534\n",
      "Hindbrain neural progenitors                       7505\n",
      "Hindgut                                            2130\n",
      "ICM                                                 268\n",
      "Intermediate mesoderm                              2923\n",
      "Kidney primordium                                  3619\n",
      "Late dorsal forebrain progenitors                  1770\n",
      "Lateral plate mesoderm                            11107\n",
      "Limb ectoderm                                      3118\n",
      "Limb mesoderm                                     10014\n",
      "MEP                                                1176\n",
      "Megakaryocyte progenitors                           806\n",
      "Mes                                               20248\n",
      "Mesenchyme                                        12096\n",
      "Midbrain progenitors                               1805\n",
      "Midbrain_Hindbrain boundary                        7728\n",
      "Midgut                                             2417\n",
      "Midline                                            1425\n",
      "Migratory neural crest                             8413\n",
      "NMPs                                               4954\n",
      "NMPs_Mesoderm-biased                               2666\n",
      "Nascent mesoderm                                   4865\n",
      "Neural tube                                        5269\n",
      "Node                                                673\n",
      "Non-neural ectoderm                                2824\n",
      "Notochord                                          1064\n",
      "Optic vesicle                                     12409\n",
      "Otic neural progenitors                             433\n",
      "Otic placode                                       1837\n",
      "PGC                                                 942\n",
      "ParE                                              11289\n",
      "Paraxial mesoderm                                  1765\n",
      "Parietal endoderm                                  1484\n",
      "Pharyngeal endoderm                                7931\n",
      "Pharyngeal mesoderm                                3361\n",
      "Placodal ectoderm                                  3679\n",
      "Posterior somitic tissues                          4719\n",
      "PrE                                                 409\n",
      "Presomitic mesoderm                                7825\n",
      "Primitive Streak                                   7547\n",
      "Sclerotome                                        10688\n",
      "Somitic mesoderm                                   3976\n",
      "Spinal cord progenitors                            8343\n",
      "Surface ectoderm                                   5789\n",
      "TE                                                  741\n",
      "Thyroid primordium                                 1616\n",
      "VE                                                   40\n",
      "Venous endothelium                                 6038\n",
      "Ventral forebrain progenitors                      1918\n",
      "Ventral hindbrain progenitors                     13158\n",
      "Visceral endoderm                                  2009\n",
      "YS endothelium                                     3125\n",
      "YS mesothelium                                     6697\n",
      "YS mesothelium-derived endothelial progenitors      108\n",
      "YsE                                                8837\n",
      "emVE                                               6339\n",
      "exVE                                              19584\n",
      "Name: annotation, dtype: int64\n"
     ]
    }
   ],
   "source": [
    "\n",
    "with pd.option_context('display.max_rows', None):\n",
    "    print(adata.obs['annotation'].value_counts(dropna=False).sort_index())\n"
   ]
  },
  {
   "cell_type": "code",
   "execution_count": 47,
   "metadata": {},
   "outputs": [
    {
     "data": {
      "text/plain": [
       "118"
      ]
     },
     "execution_count": 47,
     "metadata": {},
     "output_type": "execute_result"
    }
   ],
   "source": [
    "len(np.unique(adata.obs['annotation']))"
   ]
  },
  {
   "cell_type": "code",
   "execution_count": 48,
   "metadata": {},
   "outputs": [],
   "source": [
    "## TRANSFERRING THE NEW LABELS \n",
    "adata.obs.loc[reanno.index, 'annotation'] = reanno['nn_transfer'].copy()\n"
   ]
  },
  {
   "cell_type": "code",
   "execution_count": 49,
   "metadata": {},
   "outputs": [
    {
     "data": {
      "text/plain": [
       "109"
      ]
     },
     "execution_count": 49,
     "metadata": {},
     "output_type": "execute_result"
    }
   ],
   "source": [
    "len(np.unique(adata.obs['annotation']))"
   ]
  },
  {
   "cell_type": "code",
   "execution_count": 50,
   "metadata": {},
   "outputs": [
    {
     "name": "stdout",
     "output_type": "stream",
     "text": [
      "Allantois                                          8515\n",
      "Allantois endothelium                              2689\n",
      "Amniotic ectoderm                                  3140\n",
      "Anterior cardiopharyngeal progenitors              1912\n",
      "Anterior somitic tissues                           3878\n",
      "Blood progenitors                                  2642\n",
      "Branchial arch neural crest                        7303\n",
      "Cardiomyocytes FHF 1                               3445\n",
      "Cardiomyocytes FHF 2                               2540\n",
      "Cardiomyocytes SHF 1                               2777\n",
      "Cardiomyocytes SHF 2                               2140\n",
      "Cardiopharyngeal progenitors                       1629\n",
      "Cardiopharyngeal progenitors FHF                   3662\n",
      "Cardiopharyngeal progenitors SHF                   9275\n",
      "Caudal epiblast                                    3674\n",
      "Caudal mesoderm                                    3404\n",
      "Chorioallantoic-derived erythroid progenitors       918\n",
      "Cranial mesoderm                                   2704\n",
      "DE                                                 5961\n",
      "Dermomyotome                                       6524\n",
      "Dorsal hindbrain progenitors                       7253\n",
      "Dorsal midbrain neurons                            2250\n",
      "Dorsal spinal cord progenitors                    10381\n",
      "EMP                                                2132\n",
      "EPI                                                8969\n",
      "Early dorsal forebrain progenitors                  190\n",
      "Ectoderm                                           6550\n",
      "Embryo proper endothelium                          3564\n",
      "Embryo proper mesothelium                          5511\n",
      "Endocardium                                        2194\n",
      "Endothelial                                         987\n",
      "Endotome                                           4946\n",
      "Epiblast                                          12088\n",
      "Epicardium                                         3414\n",
      "Epidermis                                          3542\n",
      "Erythroid                                         41014\n",
      "ExE                                                4936\n",
      "ExE ectoderm                                      10389\n",
      "ExE endoderm                                       9467\n",
      "Forelimb                                            935\n",
      "Frontonasal mesenchyme                             2168\n",
      "GermCells                                           226\n",
      "Gut tube                                           2496\n",
      "Gut tube:DE:Colon                                    31\n",
      "Gut tube:DE:Liver                                   287\n",
      "Gut tube:DE:Lung                                   5152\n",
      "Gut tube:DE:Pancreas                                533\n",
      "Gut tube:DE:Small int                              1691\n",
      "Gut tube:DE:Thymus                                10552\n",
      "Gut tube:DE:Thyroid                                1859\n",
      "Gut tube:VE:Colon                                  2414\n",
      "Gut tube:VE:Liver                                  1988\n",
      "Gut tube:VE:Lung                                   1114\n",
      "Gut tube:VE:Pancreas                               7853\n",
      "Gut tube:VE:Small int                              4090\n",
      "Gut tube:VE:Thymus                                  166\n",
      "Gut tube:VE:Thyroid                                  11\n",
      "Haematoendothelial progenitors                     1815\n",
      "Hindbrain floor plate                              4534\n",
      "Hindbrain neural progenitors                       7505\n",
      "ICM                                                 268\n",
      "Intermediate mesoderm                              3952\n",
      "Kidney primordium                                  3747\n",
      "Late dorsal forebrain progenitors                  1770\n",
      "Lateral plate mesoderm                            12245\n",
      "Limb ectoderm                                      3118\n",
      "Limb mesoderm                                     10419\n",
      "MEP                                                1176\n",
      "Megakaryocyte progenitors                           806\n",
      "Mesenchyme                                        12691\n",
      "Midbrain progenitors                               1805\n",
      "Midbrain_Hindbrain boundary                        7728\n",
      "Midline                                            1425\n",
      "Migratory neural crest                             8413\n",
      "NMPs                                               5119\n",
      "NMPs_Mesoderm-biased                               2666\n",
      "Nascent mesoderm                                   9459\n",
      "Neural tube                                        5269\n",
      "Node                                                673\n",
      "Non-neural ectoderm                                2824\n",
      "Notochord                                          1064\n",
      "Optic vesicle                                     12409\n",
      "Otic neural progenitors                             433\n",
      "Otic placode                                       1837\n",
      "PGC                                                 942\n",
      "ParE                                              12897\n",
      "Paraxial mesoderm                                  2248\n",
      "Pharyngeal mesoderm                                4175\n",
      "Placodal ectoderm                                  3679\n",
      "Posterior somitic tissues                          4719\n",
      "PrE                                                 409\n",
      "Presomitic mesoderm                                7917\n",
      "Primitive Streak                                   7547\n",
      "Sclerotome                                        11103\n",
      "Somitic mesoderm                                   3997\n",
      "Spinal cord progenitors                            8343\n",
      "Surface ectoderm                                   5789\n",
      "TE                                                  741\n",
      "VE                                                   42\n",
      "Venous endothelium                                 6038\n",
      "Ventral forebrain progenitors                      1918\n",
      "Ventral hindbrain progenitors                     13158\n",
      "Visceral endoderm                                   276\n",
      "YS endothelium                                     3125\n",
      "YS mesothelium                                     7004\n",
      "YS mesothelium-derived endothelial progenitors      109\n",
      "YsE                                                8837\n",
      "emVE                                               8209\n",
      "exVE                                              25468\n",
      "Name: annotation, dtype: int64\n"
     ]
    }
   ],
   "source": [
    "with pd.option_context('display.max_rows', None):\n",
    "    print(adata.obs['annotation'].value_counts(dropna=False).sort_index())"
   ]
  },
  {
   "cell_type": "code",
   "execution_count": 51,
   "metadata": {},
   "outputs": [
    {
     "data": {
      "text/plain": [
       "AnnData object with n_obs × n_vars = 535935 × 8342\n",
       "    obs: 'batch', 'stage', 'sample', 'covariate_composite', 'celltype_nowotschin', 'celltype_rosshandler', 'celltype_pijuansala', 'nowotschin_cluster', 'rosshandler_somite_count', 'rosshandler_anatomy', 'rosshandler_phase', 'rosshandler_S_score', 'rosshandler_G2M_score', 'rosshandler_louvain', 'rosshandler_leiden', 'mt-Atp6', 'mt-Atp8', 'mt-Co1', 'mt-Co2', 'mt-Co3', 'mt-Cytb', 'mt-Nd1', 'mt-Nd2', 'mt-Nd3', 'mt-Nd4', 'mt-Nd4l', 'mt-Nd5', 'mt-Nd6', 'S_score', 'G2M_score', 'phase', '_scvi_batch', '_scvi_labels', 'annotation_old', 'annotation'\n",
       "    var: 'highly_variable'\n",
       "    uns: '_scvi_manager_uuid', '_scvi_uuid', 'colormap_annotation', 'colormap_batch', 'colormap_rosshandler', 'colormap_stage', 'log1p', 'neighbors_scVI', 'phase_colors', 'symbolmap_batch', 'symbolmap_plotly_batch', 'symbolmap_plotly_stage', 'symbolmap_stage', 'umap'\n",
       "    obsm: 'X_scVI', 'X_umap', 'X_umap_scVI', '_scvi_extra_categorical_covs', '_scvi_extra_continuous_covs'\n",
       "    layers: 'log_normalized', 'raw_counts'\n",
       "    obsp: 'neighbors_scVI_connectivities', 'neighbors_scVI_distances'"
      ]
     },
     "execution_count": 51,
     "metadata": {},
     "output_type": "execute_result"
    }
   ],
   "source": [
    "adata"
   ]
  },
  {
   "cell_type": "markdown",
   "metadata": {},
   "source": [
    "## SAVE DATA "
   ]
  },
  {
   "cell_type": "code",
   "execution_count": 52,
   "metadata": {},
   "outputs": [],
   "source": [
    "data_path = '/data/hadjantalab/lucas/atlas/data'\n",
    "file_path = os.path.join(data_path, 'adata.h5ad')\n",
    "adata.write_h5ad(file_path)"
   ]
  },
  {
   "cell_type": "code",
   "execution_count": 53,
   "metadata": {},
   "outputs": [],
   "source": [
    "data_path = '/data/hadjantalab/lucas/atlas/data/reannotation'\n",
    "file_path = os.path.join(data_path, 'reannotation.csv')\n",
    "reanno.to_csv(file_path, sep = ',', index = True)"
   ]
  },
  {
   "cell_type": "code",
   "execution_count": null,
   "metadata": {},
   "outputs": [],
   "source": [
    "anno = pd.DataFrame(adata.obs['annotation'].copy())\n",
    "data_path = '/data/hadjantalab/lucas/atlas/data'\n",
    "file_path = os.path.join(data_path, 'annotation.csv')\n",
    "anno.to_csv(file_path, sep = ',', index = True)"
   ]
  }
 ],
 "metadata": {
  "kernelspec": {
   "display_name": "gpu2",
   "language": "python",
   "name": "gpu2"
  },
  "language_info": {
   "codemirror_mode": {
    "name": "ipython",
    "version": 3
   },
   "file_extension": ".py",
   "mimetype": "text/x-python",
   "name": "python",
   "nbconvert_exporter": "python",
   "pygments_lexer": "ipython3",
   "version": "3.10.13"
  }
 },
 "nbformat": 4,
 "nbformat_minor": 4
}
