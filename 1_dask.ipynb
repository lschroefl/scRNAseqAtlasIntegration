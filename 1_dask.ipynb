{
 "cells": [
  {
   "cell_type": "markdown",
   "metadata": {},
   "source": [
    "## One Model\n",
    "\n",
    "rosshandler: https://pubmed.ncbi.nlm.nih.gov/37982461/ \\\n",
    "nowotschin: https://pubmed.ncbi.nlm.nih.gov/30959515/ \\\n",
    "see: https://scanpy.readthedocs.io/en/stable/tutorials/experimental/dask.html \\\n",
    "see: https://rapids-singlecell.readthedocs.io/en/latest/notebooks/demo_gpu-seuratv3-brain-1M.html"
   ]
  },
  {
   "cell_type": "code",
   "execution_count": 1,
   "metadata": {},
   "outputs": [
    {
     "name": "stdout",
     "output_type": "stream",
     "text": [
      "CPU times: user 2.41 s, sys: 636 ms, total: 3.05 s\n",
      "Wall time: 29.3 s\n"
     ]
    }
   ],
   "source": [
    "%%time\n",
    "# importing our library \n",
    "import matplotlib.pyplot as plt\n",
    "import numpy as np\n",
    "import pandas as pd\n",
    "#from scvi.models.utils import mde\n",
    "import tempfile\n",
    "import os\n",
    "import scipy\n",
    "from scipy.io import mmread\n",
    "from scipy.io import mmwrite\n",
    "import anndata as ad\n",
    "import warnings \n",
    "import anndata as ad\n",
    "\n",
    "import dask\n",
    "import dask.array as da\n",
    "#import dask.distributed as dd\n",
    "import graphviz\n",
    "\n",
    "from dask import delayed\n",
    "import h5py\n"
   ]
  },
  {
   "cell_type": "markdown",
   "metadata": {},
   "source": [
    "## Dask Setup"
   ]
  },
  {
   "cell_type": "code",
   "execution_count": 2,
   "metadata": {},
   "outputs": [],
   "source": [
    "## setting graphics\n",
    "dask.config.set({\"visualization.engine\": \"graphviz\"});\n",
    "## Problem with memory spilling just solved itself\n",
    "os.environ['MALLOC_TRIM_THRESHOLD_'] = '0'"
   ]
  },
  {
   "cell_type": "code",
   "execution_count": 3,
   "metadata": {},
   "outputs": [],
   "source": [
    "#cluster = dd.LocalCluster(n_workers=24, memory_limit = 8*10**9)\n",
    "#client = dd.Client(cluster)"
   ]
  },
  {
   "cell_type": "code",
   "execution_count": 4,
   "metadata": {
    "scrolled": true
   },
   "outputs": [],
   "source": [
    "#client"
   ]
  },
  {
   "cell_type": "markdown",
   "metadata": {},
   "source": [
    "## Data loading & setting up anndata objects"
   ]
  },
  {
   "cell_type": "code",
   "execution_count": 5,
   "metadata": {},
   "outputs": [],
   "source": [
    "chunk_size = [5000, -1]"
   ]
  },
  {
   "cell_type": "code",
   "execution_count": 6,
   "metadata": {},
   "outputs": [
    {
     "name": "stdout",
     "output_type": "stream",
     "text": [
      "CPU times: user 1min 7s, sys: 4.24 s, total: 1min 11s\n",
      "Wall time: 1min 13s\n"
     ]
    }
   ],
   "source": [
    "%%time\n",
    "## reading in the raw counts via raw/X\n",
    "with h5py.File(\"/data/hadjantalab/atlas/extAtlas/embryo_complete.h5ad\", \"r\") as f:\n",
    "    adata_rosshandler = ad.AnnData(\n",
    "        obs=ad.experimental.read_elem(f[\"obs\"]),\n",
    "        var=ad.experimental.read_elem(f[\"var\"]),\n",
    "        X = ad.experimental.read_elem(f[\"raw/X\"])    \n",
    "    )\n",
    "adata_rosshandler.X = adata_rosshandler.X.astype(np.float32)\n",
    "adata_rosshandler.X = da.from_array(adata_rosshandler.X)\n",
    "adata_rosshandler.X = da.rechunk(adata_rosshandler.X, chunk_size)"
   ]
  },
  {
   "cell_type": "code",
   "execution_count": 7,
   "metadata": {},
   "outputs": [
    {
     "name": "stdout",
     "output_type": "stream",
     "text": [
      "AnnData object with n_obs × n_vars = 430339 × 27669\n",
      "    obs: 'cell', 'sample', 'embryo_version', 'stage', 'somite_count', 'anatomy', 'S_score', 'G2M_score', 'phase', 'louvain', 'leiden', 'celltype_PijuanSala2019', 'celltype_extended_atlas'\n",
      "    var: 'highly_variable', 'means', 'dispersions', 'dispersions_norm', 'mgi_symbol'\n"
     ]
    },
    {
     "data": {
      "text/html": [
       "<table>\n",
       "    <tr>\n",
       "        <td>\n",
       "            <table style=\"border-collapse: collapse;\">\n",
       "                <thead>\n",
       "                    <tr>\n",
       "                        <td> </td>\n",
       "                        <th> Array </th>\n",
       "                        <th> Chunk </th>\n",
       "                    </tr>\n",
       "                </thead>\n",
       "                <tbody>\n",
       "                    \n",
       "                    <tr>\n",
       "                        <th> Shape </th>\n",
       "                        <td> (430339, 27669) </td>\n",
       "                        <td> (5000, 27669) </td>\n",
       "                    </tr>\n",
       "                    <tr>\n",
       "                        <th> Dask graph </th>\n",
       "                        <td colspan=\"2\"> 87 chunks in 3 graph layers </td>\n",
       "                    </tr>\n",
       "                    <tr>\n",
       "                        <th> Data type </th>\n",
       "                        <td colspan=\"2\"> float32 scipy.sparse._csr.csr_matrix </td>\n",
       "                    </tr>\n",
       "                </tbody>\n",
       "            </table>\n",
       "        </td>\n",
       "        <td>\n",
       "        <svg width=\"86\" height=\"170\" style=\"stroke:rgb(0,0,0);stroke-width:1\" >\n",
       "\n",
       "  <!-- Horizontal lines -->\n",
       "  <line x1=\"0\" y1=\"0\" x2=\"36\" y2=\"0\" style=\"stroke-width:2\" />\n",
       "  <line x1=\"0\" y1=\"5\" x2=\"36\" y2=\"5\" />\n",
       "  <line x1=\"0\" y1=\"12\" x2=\"36\" y2=\"12\" />\n",
       "  <line x1=\"0\" y1=\"18\" x2=\"36\" y2=\"18\" />\n",
       "  <line x1=\"0\" y1=\"25\" x2=\"36\" y2=\"25\" />\n",
       "  <line x1=\"0\" y1=\"30\" x2=\"36\" y2=\"30\" />\n",
       "  <line x1=\"0\" y1=\"37\" x2=\"36\" y2=\"37\" />\n",
       "  <line x1=\"0\" y1=\"44\" x2=\"36\" y2=\"44\" />\n",
       "  <line x1=\"0\" y1=\"50\" x2=\"36\" y2=\"50\" />\n",
       "  <line x1=\"0\" y1=\"57\" x2=\"36\" y2=\"57\" />\n",
       "  <line x1=\"0\" y1=\"62\" x2=\"36\" y2=\"62\" />\n",
       "  <line x1=\"0\" y1=\"69\" x2=\"36\" y2=\"69\" />\n",
       "  <line x1=\"0\" y1=\"75\" x2=\"36\" y2=\"75\" />\n",
       "  <line x1=\"0\" y1=\"82\" x2=\"36\" y2=\"82\" />\n",
       "  <line x1=\"0\" y1=\"89\" x2=\"36\" y2=\"89\" />\n",
       "  <line x1=\"0\" y1=\"94\" x2=\"36\" y2=\"94\" />\n",
       "  <line x1=\"0\" y1=\"101\" x2=\"36\" y2=\"101\" />\n",
       "  <line x1=\"0\" y1=\"107\" x2=\"36\" y2=\"107\" />\n",
       "  <line x1=\"0\" y1=\"114\" x2=\"36\" y2=\"114\" />\n",
       "  <line x1=\"0\" y1=\"120\" x2=\"36\" y2=\"120\" style=\"stroke-width:2\" />\n",
       "\n",
       "  <!-- Vertical lines -->\n",
       "  <line x1=\"0\" y1=\"0\" x2=\"0\" y2=\"120\" style=\"stroke-width:2\" />\n",
       "  <line x1=\"36\" y1=\"0\" x2=\"36\" y2=\"120\" style=\"stroke-width:2\" />\n",
       "\n",
       "  <!-- Colored Rectangle -->\n",
       "  <polygon points=\"0.0,0.0 36.0303181135621,0.0 36.0303181135621,120.0 0.0,120.0\" style=\"fill:#8B4903A0;stroke-width:0\"/>\n",
       "\n",
       "  <!-- Text -->\n",
       "  <text x=\"18.015159\" y=\"140.000000\" font-size=\"1.0rem\" font-weight=\"100\" text-anchor=\"middle\" >27669</text>\n",
       "  <text x=\"56.030318\" y=\"60.000000\" font-size=\"1.0rem\" font-weight=\"100\" text-anchor=\"middle\" transform=\"rotate(-90,56.030318,60.000000)\">430339</text>\n",
       "</svg>\n",
       "        </td>\n",
       "    </tr>\n",
       "</table>"
      ],
      "text/plain": [
       "dask.array<rechunk-merge, shape=(430339, 27669), dtype=float32, chunksize=(5000, 27669), chunktype=scipy.csr_matrix>"
      ]
     },
     "execution_count": 7,
     "metadata": {},
     "output_type": "execute_result"
    }
   ],
   "source": [
    "## adata_rosshandler object\n",
    "print(adata_rosshandler)\n",
    "adata_rosshandler.X"
   ]
  },
  {
   "cell_type": "code",
   "execution_count": 8,
   "metadata": {},
   "outputs": [
    {
     "name": "stderr",
     "output_type": "stream",
     "text": [
      "/data/hadjantalab/tmp2/ipykernel_115651/129023730.py:4: SettingWithCopyWarning: \n",
      "A value is trying to be set on a copy of a slice from a DataFrame\n",
      "\n",
      "See the caveats in the documentation: https://pandas.pydata.org/pandas-docs/stable/user_guide/indexing.html#returning-a-view-versus-a-copy\n",
      "  adata_rosshandler.obs['batch'][adata_rosshandler.obs['embryo_version'] == 'Extension'] = 'rosshandler'\n"
     ]
    }
   ],
   "source": [
    "# modulating some metadata\n",
    "adata_rosshandler.var['mgi_symbol'] = adata_rosshandler.var['mgi_symbol'].astype('object')\n",
    "adata_rosshandler.obs['batch'] = 'pijuan-sala'\n",
    "adata_rosshandler.obs['batch'][adata_rosshandler.obs['embryo_version'] == 'Extension'] = 'rosshandler'\n",
    "adata_rosshandler.var['id'] = adata_rosshandler.var_names\n",
    "adata_rosshandler.var.index = adata_rosshandler.var['mgi_symbol']"
   ]
  },
  {
   "cell_type": "code",
   "execution_count": 9,
   "metadata": {},
   "outputs": [
    {
     "name": "stdout",
     "output_type": "stream",
     "text": [
      "CPU times: user 3.49 s, sys: 1.15 s, total: 4.64 s\n",
      "Wall time: 7.2 s\n"
     ]
    }
   ],
   "source": [
    "%%time\n",
    "with h5py.File(\"/data/hadjantalab/atlas/endoderm/sc_endoderm_all_cells.h5ad\", \"r\") as f:\n",
    "    adata_nowotschin = ad.AnnData(\n",
    "        obs=ad.experimental.read_elem(f[\"obs\"]),\n",
    "        var=ad.experimental.read_elem(f[\"var\"]),\n",
    "        X = ad.experimental.read_elem(f[\"X\"])    \n",
    "    )\n",
    "\n",
    "## reading in the raw counts via raw/X\n",
    "adata_nowotschin.X = da.from_array(adata_nowotschin.X)\n",
    "adata_nowotschin.X = da.rechunk(adata_nowotschin.X, chunk_size)"
   ]
  },
  {
   "cell_type": "code",
   "execution_count": 10,
   "metadata": {},
   "outputs": [
    {
     "name": "stdout",
     "output_type": "stream",
     "text": [
      "AnnData object with n_obs × n_vars = 113051 × 20897\n",
      "    obs: 'Cluster', 'Timepoint', 'CellType'\n"
     ]
    },
    {
     "data": {
      "text/html": [
       "<table>\n",
       "    <tr>\n",
       "        <td>\n",
       "            <table style=\"border-collapse: collapse;\">\n",
       "                <thead>\n",
       "                    <tr>\n",
       "                        <td> </td>\n",
       "                        <th> Array </th>\n",
       "                        <th> Chunk </th>\n",
       "                    </tr>\n",
       "                </thead>\n",
       "                <tbody>\n",
       "                    \n",
       "                    <tr>\n",
       "                        <th> Shape </th>\n",
       "                        <td> (113051, 20897) </td>\n",
       "                        <td> (5000, 20897) </td>\n",
       "                    </tr>\n",
       "                    <tr>\n",
       "                        <th> Dask graph </th>\n",
       "                        <td colspan=\"2\"> 23 chunks in 3 graph layers </td>\n",
       "                    </tr>\n",
       "                    <tr>\n",
       "                        <th> Data type </th>\n",
       "                        <td colspan=\"2\"> float32 scipy.sparse._csr.csr_matrix </td>\n",
       "                    </tr>\n",
       "                </tbody>\n",
       "            </table>\n",
       "        </td>\n",
       "        <td>\n",
       "        <svg width=\"91\" height=\"170\" style=\"stroke:rgb(0,0,0);stroke-width:1\" >\n",
       "\n",
       "  <!-- Horizontal lines -->\n",
       "  <line x1=\"0\" y1=\"0\" x2=\"41\" y2=\"0\" style=\"stroke-width:2\" />\n",
       "  <line x1=\"0\" y1=\"5\" x2=\"41\" y2=\"5\" />\n",
       "  <line x1=\"0\" y1=\"10\" x2=\"41\" y2=\"10\" />\n",
       "  <line x1=\"0\" y1=\"15\" x2=\"41\" y2=\"15\" />\n",
       "  <line x1=\"0\" y1=\"21\" x2=\"41\" y2=\"21\" />\n",
       "  <line x1=\"0\" y1=\"31\" x2=\"41\" y2=\"31\" />\n",
       "  <line x1=\"0\" y1=\"37\" x2=\"41\" y2=\"37\" />\n",
       "  <line x1=\"0\" y1=\"42\" x2=\"41\" y2=\"42\" />\n",
       "  <line x1=\"0\" y1=\"47\" x2=\"41\" y2=\"47\" />\n",
       "  <line x1=\"0\" y1=\"53\" x2=\"41\" y2=\"53\" />\n",
       "  <line x1=\"0\" y1=\"63\" x2=\"41\" y2=\"63\" />\n",
       "  <line x1=\"0\" y1=\"68\" x2=\"41\" y2=\"68\" />\n",
       "  <line x1=\"0\" y1=\"74\" x2=\"41\" y2=\"74\" />\n",
       "  <line x1=\"0\" y1=\"79\" x2=\"41\" y2=\"79\" />\n",
       "  <line x1=\"0\" y1=\"84\" x2=\"41\" y2=\"84\" />\n",
       "  <line x1=\"0\" y1=\"95\" x2=\"41\" y2=\"95\" />\n",
       "  <line x1=\"0\" y1=\"100\" x2=\"41\" y2=\"100\" />\n",
       "  <line x1=\"0\" y1=\"106\" x2=\"41\" y2=\"106\" />\n",
       "  <line x1=\"0\" y1=\"111\" x2=\"41\" y2=\"111\" />\n",
       "  <line x1=\"0\" y1=\"120\" x2=\"41\" y2=\"120\" style=\"stroke-width:2\" />\n",
       "\n",
       "  <!-- Vertical lines -->\n",
       "  <line x1=\"0\" y1=\"0\" x2=\"0\" y2=\"120\" style=\"stroke-width:2\" />\n",
       "  <line x1=\"41\" y1=\"0\" x2=\"41\" y2=\"120\" style=\"stroke-width:2\" />\n",
       "\n",
       "  <!-- Colored Rectangle -->\n",
       "  <polygon points=\"0.0,0.0 41.67020658731785,0.0 41.67020658731785,120.0 0.0,120.0\" style=\"fill:#8B4903A0;stroke-width:0\"/>\n",
       "\n",
       "  <!-- Text -->\n",
       "  <text x=\"20.835103\" y=\"140.000000\" font-size=\"1.0rem\" font-weight=\"100\" text-anchor=\"middle\" >20897</text>\n",
       "  <text x=\"61.670207\" y=\"60.000000\" font-size=\"1.0rem\" font-weight=\"100\" text-anchor=\"middle\" transform=\"rotate(-90,61.670207,60.000000)\">113051</text>\n",
       "</svg>\n",
       "        </td>\n",
       "    </tr>\n",
       "</table>"
      ],
      "text/plain": [
       "dask.array<rechunk-merge, shape=(113051, 20897), dtype=float32, chunksize=(5000, 20897), chunktype=scipy.csr_matrix>"
      ]
     },
     "execution_count": 10,
     "metadata": {},
     "output_type": "execute_result"
    }
   ],
   "source": [
    "# adata_nowotschin object\n",
    "print(adata_nowotschin)\n",
    "adata_nowotschin.X"
   ]
  },
  {
   "cell_type": "code",
   "execution_count": 11,
   "metadata": {},
   "outputs": [],
   "source": [
    "# modulating some metadata \n",
    "adata_nowotschin.obs['cell'] = adata_nowotschin.obs_names\n",
    "adata_nowotschin.obs.index = adata_nowotschin.obs['cell']\n",
    "adata_nowotschin.obs['celltype_nowotschin'] = adata_nowotschin.obs['CellType']\n",
    "del adata_nowotschin.obs['CellType']\n",
    "adata_nowotschin.obs['timepoint_nowotschin'] = adata_nowotschin.obs['Timepoint']\n",
    "del adata_nowotschin.obs['Timepoint']\n",
    "adata_nowotschin.obs['cluster_nowotschin'] = adata_nowotschin.obs['Cluster']\n",
    "del adata_nowotschin.obs['Cluster']\n",
    "adata_nowotschin.obs['batch'] = 'nowotschin'\n",
    "adata_nowotschin.var['mgi_symbol'] = adata_nowotschin.var_names"
   ]
  },
  {
   "cell_type": "markdown",
   "metadata": {},
   "source": [
    "## Concatenating with dask"
   ]
  },
  {
   "cell_type": "code",
   "execution_count": 12,
   "metadata": {},
   "outputs": [
    {
     "name": "stdout",
     "output_type": "stream",
     "text": [
      "Nowotschin:  True\n",
      "Rosshandler:  False\n"
     ]
    }
   ],
   "source": [
    "## var.index unique? otherwise concat will not work\n",
    "print('Nowotschin: ', len(adata_nowotschin.var.index) == len(set(adata_nowotschin.var.index)))\n",
    "print('Rosshandler: ', len(adata_rosshandler.var.index) == len(set(adata_rosshandler.var.index)))\n"
   ]
  },
  {
   "cell_type": "code",
   "execution_count": 13,
   "metadata": {},
   "outputs": [],
   "source": [
    "adata_rosshandler.var_names_make_unique()"
   ]
  },
  {
   "cell_type": "code",
   "execution_count": 14,
   "metadata": {},
   "outputs": [
    {
     "name": "stdout",
     "output_type": "stream",
     "text": [
      "Expected shape: (543390, 28652)\n",
      "Observed shape: (543390, 28652)\n",
      "CPU times: user 411 ms, sys: 28.7 ms, total: 439 ms\n",
      "Wall time: 2.3 s\n"
     ]
    }
   ],
   "source": [
    "%%time\n",
    "import dask\n",
    "from dask import delayed\n",
    "import anndata as ad\n",
    "import math\n",
    "\n",
    "# Configure Dask to use multiple processors\n",
    "dask.config.set(scheduler='threads', num_workers=10, memory_limit='230GB')\n",
    "dask.config.set({'array.slicing.split_large_chunks': True})\n",
    "\n",
    "# Define a function to perform delayed concatenation of all chunks at once\n",
    "@delayed\n",
    "def concatenate_all_chunks(chunks):\n",
    "    return ad.concat(chunks, axis=0, join='outer', fill_value=0)\n",
    "\n",
    "# Step 1: Determine appropriate chunk sizes\n",
    "chunk_size_ross = int(math.ceil(adata_rosshandler.shape[0] / 5 / 1e4) * 1e4)\n",
    "chunk_size_nowo = int(math.ceil(adata_nowotschin.shape[0] / 1e4) * 1e4)\n",
    "\n",
    "# Step 2: Create chunks for both datasets\n",
    "chunks_ross = [adata_rosshandler[i:i + chunk_size_ross] for i in range(0, len(adata_rosshandler), chunk_size_ross)]\n",
    "chunks_nowo = [adata_nowotschin[i:i + chunk_size_nowo] for i in range(0, len(adata_nowotschin), chunk_size_nowo)]\n",
    "\n",
    "# Step 3: Concatenate chunks from both datasets\n",
    "# Concatenate both chunk lists at once (no need to pair them manually)\n",
    "all_chunks = chunks_ross + chunks_nowo\n",
    "\n",
    "# Step 4: Delayed final concatenation of all chunks\n",
    "final_concatenated_data = concatenate_all_chunks(all_chunks)\n",
    "\n",
    "# Compute the final concatenated anndata object\n",
    "adata = dask.compute(final_concatenated_data)[0]\n",
    "\n",
    "# Shape verification\n",
    "expected_shape = (\n",
    "    adata_rosshandler.shape[0] + adata_nowotschin.shape[0],\n",
    "    len(set(adata_rosshandler.var_names).union(set(adata_nowotschin.var_names))),\n",
    ")\n",
    "print(\"Expected shape:\", expected_shape)\n",
    "print(\"Observed shape:\", adata.shape)\n"
   ]
  },
  {
   "cell_type": "code",
   "execution_count": null,
   "metadata": {},
   "outputs": [],
   "source": [
    "final_concatenated_chunks.visualize()"
   ]
  },
  {
   "cell_type": "code",
   "execution_count": null,
   "metadata": {},
   "outputs": [],
   "source": [
    "final_concatenated_chunks.dask"
   ]
  },
  {
   "cell_type": "code",
   "execution_count": 18,
   "metadata": {},
   "outputs": [
    {
     "data": {
      "text/plain": [
       "AnnData object with n_obs × n_vars = 543390 × 28652\n",
       "    obs: 'cell', 'sample', 'embryo_version', 'stage', 'somite_count', 'anatomy', 'S_score', 'G2M_score', 'phase', 'louvain', 'leiden', 'celltype_PijuanSala2019', 'celltype_extended_atlas', 'batch', 'celltype_nowotschin', 'timepoint_nowotschin', 'cluster_nowotschin'"
      ]
     },
     "execution_count": 18,
     "metadata": {},
     "output_type": "execute_result"
    }
   ],
   "source": [
    "adata"
   ]
  },
  {
   "cell_type": "code",
   "execution_count": 25,
   "metadata": {},
   "outputs": [
    {
     "data": {
      "text/html": [
       "<table>\n",
       "    <tr>\n",
       "        <td>\n",
       "            <table style=\"border-collapse: collapse;\">\n",
       "                <thead>\n",
       "                    <tr>\n",
       "                        <td> </td>\n",
       "                        <th> Array </th>\n",
       "                        <th> Chunk </th>\n",
       "                    </tr>\n",
       "                </thead>\n",
       "                <tbody>\n",
       "                    \n",
       "                    <tr>\n",
       "                        <th> Shape </th>\n",
       "                        <td> (543390, 28652) </td>\n",
       "                        <td> (5000, 28652) </td>\n",
       "                    </tr>\n",
       "                    <tr>\n",
       "                        <th> Dask graph </th>\n",
       "                        <td colspan=\"2\"> 109 chunks in 25 graph layers </td>\n",
       "                    </tr>\n",
       "                    <tr>\n",
       "                        <th> Data type </th>\n",
       "                        <td colspan=\"2\"> float32 scipy.sparse._csr.csr_matrix </td>\n",
       "                    </tr>\n",
       "                </tbody>\n",
       "            </table>\n",
       "        </td>\n",
       "        <td>\n",
       "        <svg width=\"84\" height=\"170\" style=\"stroke:rgb(0,0,0);stroke-width:1\" >\n",
       "\n",
       "  <!-- Horizontal lines -->\n",
       "  <line x1=\"0\" y1=\"0\" x2=\"34\" y2=\"0\" style=\"stroke-width:2\" />\n",
       "  <line x1=\"0\" y1=\"5\" x2=\"34\" y2=\"5\" />\n",
       "  <line x1=\"0\" y1=\"12\" x2=\"34\" y2=\"12\" />\n",
       "  <line x1=\"0\" y1=\"18\" x2=\"34\" y2=\"18\" />\n",
       "  <line x1=\"0\" y1=\"24\" x2=\"34\" y2=\"24\" />\n",
       "  <line x1=\"0\" y1=\"30\" x2=\"34\" y2=\"30\" />\n",
       "  <line x1=\"0\" y1=\"37\" x2=\"34\" y2=\"37\" />\n",
       "  <line x1=\"0\" y1=\"44\" x2=\"34\" y2=\"44\" />\n",
       "  <line x1=\"0\" y1=\"49\" x2=\"34\" y2=\"49\" />\n",
       "  <line x1=\"0\" y1=\"56\" x2=\"34\" y2=\"56\" />\n",
       "  <line x1=\"0\" y1=\"62\" x2=\"34\" y2=\"62\" />\n",
       "  <line x1=\"0\" y1=\"69\" x2=\"34\" y2=\"69\" />\n",
       "  <line x1=\"0\" y1=\"75\" x2=\"34\" y2=\"75\" />\n",
       "  <line x1=\"0\" y1=\"81\" x2=\"34\" y2=\"81\" />\n",
       "  <line x1=\"0\" y1=\"88\" x2=\"34\" y2=\"88\" />\n",
       "  <line x1=\"0\" y1=\"94\" x2=\"34\" y2=\"94\" />\n",
       "  <line x1=\"0\" y1=\"100\" x2=\"34\" y2=\"100\" />\n",
       "  <line x1=\"0\" y1=\"107\" x2=\"34\" y2=\"107\" />\n",
       "  <line x1=\"0\" y1=\"113\" x2=\"34\" y2=\"113\" />\n",
       "  <line x1=\"0\" y1=\"120\" x2=\"34\" y2=\"120\" style=\"stroke-width:2\" />\n",
       "\n",
       "  <!-- Vertical lines -->\n",
       "  <line x1=\"0\" y1=\"0\" x2=\"0\" y2=\"120\" style=\"stroke-width:2\" />\n",
       "  <line x1=\"34\" y1=\"0\" x2=\"34\" y2=\"120\" style=\"stroke-width:2\" />\n",
       "\n",
       "  <!-- Colored Rectangle -->\n",
       "  <polygon points=\"0.0,0.0 34.82603539887483,0.0 34.82603539887483,120.0 0.0,120.0\" style=\"fill:#8B4903A0;stroke-width:0\"/>\n",
       "\n",
       "  <!-- Text -->\n",
       "  <text x=\"17.413018\" y=\"140.000000\" font-size=\"1.0rem\" font-weight=\"100\" text-anchor=\"middle\" >28652</text>\n",
       "  <text x=\"54.826035\" y=\"60.000000\" font-size=\"1.0rem\" font-weight=\"100\" text-anchor=\"middle\" transform=\"rotate(-90,54.826035,60.000000)\">543390</text>\n",
       "</svg>\n",
       "        </td>\n",
       "    </tr>\n",
       "</table>"
      ],
      "text/plain": [
       "dask.array<rechunk-merge, shape=(543390, 28652), dtype=float32, chunksize=(5000, 28652), chunktype=scipy.csr_matrix>"
      ]
     },
     "execution_count": 25,
     "metadata": {},
     "output_type": "execute_result"
    }
   ],
   "source": [
    "adata.X = adata.X.rechunk(chunk_size)\n",
    "adata.X"
   ]
  },
  {
   "cell_type": "code",
   "execution_count": 26,
   "metadata": {},
   "outputs": [],
   "source": [
    "adata.layers['dask'] = adata.X.copy()"
   ]
  },
  {
   "cell_type": "code",
   "execution_count": 27,
   "metadata": {},
   "outputs": [
    {
     "ename": "KeyError",
     "evalue": "'cell'",
     "output_type": "error",
     "traceback": [
      "\u001b[0;31m---------------------------------------------------------------------------\u001b[0m",
      "\u001b[0;31mKeyError\u001b[0m                                  Traceback (most recent call last)",
      "File \u001b[0;32m~/miniconda3/envs/gpu2/lib/python3.10/site-packages/pandas/core/indexes/base.py:3802\u001b[0m, in \u001b[0;36mIndex.get_loc\u001b[0;34m(self, key, method, tolerance)\u001b[0m\n\u001b[1;32m   3801\u001b[0m \u001b[38;5;28;01mtry\u001b[39;00m:\n\u001b[0;32m-> 3802\u001b[0m     \u001b[38;5;28;01mreturn\u001b[39;00m \u001b[38;5;28;43mself\u001b[39;49m\u001b[38;5;241;43m.\u001b[39;49m\u001b[43m_engine\u001b[49m\u001b[38;5;241;43m.\u001b[39;49m\u001b[43mget_loc\u001b[49m\u001b[43m(\u001b[49m\u001b[43mcasted_key\u001b[49m\u001b[43m)\u001b[49m\n\u001b[1;32m   3803\u001b[0m \u001b[38;5;28;01mexcept\u001b[39;00m \u001b[38;5;167;01mKeyError\u001b[39;00m \u001b[38;5;28;01mas\u001b[39;00m err:\n",
      "File \u001b[0;32m~/miniconda3/envs/gpu2/lib/python3.10/site-packages/pandas/_libs/index.pyx:138\u001b[0m, in \u001b[0;36mpandas._libs.index.IndexEngine.get_loc\u001b[0;34m()\u001b[0m\n",
      "File \u001b[0;32m~/miniconda3/envs/gpu2/lib/python3.10/site-packages/pandas/_libs/index.pyx:165\u001b[0m, in \u001b[0;36mpandas._libs.index.IndexEngine.get_loc\u001b[0;34m()\u001b[0m\n",
      "File \u001b[0;32mpandas/_libs/hashtable_class_helper.pxi:5745\u001b[0m, in \u001b[0;36mpandas._libs.hashtable.PyObjectHashTable.get_item\u001b[0;34m()\u001b[0m\n",
      "File \u001b[0;32mpandas/_libs/hashtable_class_helper.pxi:5753\u001b[0m, in \u001b[0;36mpandas._libs.hashtable.PyObjectHashTable.get_item\u001b[0;34m()\u001b[0m\n",
      "\u001b[0;31mKeyError\u001b[0m: 'cell'",
      "\nThe above exception was the direct cause of the following exception:\n",
      "\u001b[0;31mKeyError\u001b[0m                                  Traceback (most recent call last)",
      "Cell \u001b[0;32mIn[27], line 1\u001b[0m\n\u001b[0;32m----> 1\u001b[0m adata\u001b[38;5;241m.\u001b[39mobs\u001b[38;5;241m.\u001b[39mindex \u001b[38;5;241m=\u001b[39m \u001b[43madata\u001b[49m\u001b[38;5;241;43m.\u001b[39;49m\u001b[43mobs\u001b[49m\u001b[43m[\u001b[49m\u001b[38;5;124;43m'\u001b[39;49m\u001b[38;5;124;43mcell\u001b[39;49m\u001b[38;5;124;43m'\u001b[39;49m\u001b[43m]\u001b[49m\n\u001b[1;32m      2\u001b[0m \u001b[38;5;28;01mdel\u001b[39;00m adata\u001b[38;5;241m.\u001b[39mobs[\u001b[38;5;124m'\u001b[39m\u001b[38;5;124mcell\u001b[39m\u001b[38;5;124m'\u001b[39m]\n",
      "File \u001b[0;32m~/miniconda3/envs/gpu2/lib/python3.10/site-packages/pandas/core/frame.py:3807\u001b[0m, in \u001b[0;36mDataFrame.__getitem__\u001b[0;34m(self, key)\u001b[0m\n\u001b[1;32m   3805\u001b[0m \u001b[38;5;28;01mif\u001b[39;00m \u001b[38;5;28mself\u001b[39m\u001b[38;5;241m.\u001b[39mcolumns\u001b[38;5;241m.\u001b[39mnlevels \u001b[38;5;241m>\u001b[39m \u001b[38;5;241m1\u001b[39m:\n\u001b[1;32m   3806\u001b[0m     \u001b[38;5;28;01mreturn\u001b[39;00m \u001b[38;5;28mself\u001b[39m\u001b[38;5;241m.\u001b[39m_getitem_multilevel(key)\n\u001b[0;32m-> 3807\u001b[0m indexer \u001b[38;5;241m=\u001b[39m \u001b[38;5;28;43mself\u001b[39;49m\u001b[38;5;241;43m.\u001b[39;49m\u001b[43mcolumns\u001b[49m\u001b[38;5;241;43m.\u001b[39;49m\u001b[43mget_loc\u001b[49m\u001b[43m(\u001b[49m\u001b[43mkey\u001b[49m\u001b[43m)\u001b[49m\n\u001b[1;32m   3808\u001b[0m \u001b[38;5;28;01mif\u001b[39;00m is_integer(indexer):\n\u001b[1;32m   3809\u001b[0m     indexer \u001b[38;5;241m=\u001b[39m [indexer]\n",
      "File \u001b[0;32m~/miniconda3/envs/gpu2/lib/python3.10/site-packages/pandas/core/indexes/base.py:3804\u001b[0m, in \u001b[0;36mIndex.get_loc\u001b[0;34m(self, key, method, tolerance)\u001b[0m\n\u001b[1;32m   3802\u001b[0m     \u001b[38;5;28;01mreturn\u001b[39;00m \u001b[38;5;28mself\u001b[39m\u001b[38;5;241m.\u001b[39m_engine\u001b[38;5;241m.\u001b[39mget_loc(casted_key)\n\u001b[1;32m   3803\u001b[0m \u001b[38;5;28;01mexcept\u001b[39;00m \u001b[38;5;167;01mKeyError\u001b[39;00m \u001b[38;5;28;01mas\u001b[39;00m err:\n\u001b[0;32m-> 3804\u001b[0m     \u001b[38;5;28;01mraise\u001b[39;00m \u001b[38;5;167;01mKeyError\u001b[39;00m(key) \u001b[38;5;28;01mfrom\u001b[39;00m \u001b[38;5;21;01merr\u001b[39;00m\n\u001b[1;32m   3805\u001b[0m \u001b[38;5;28;01mexcept\u001b[39;00m \u001b[38;5;167;01mTypeError\u001b[39;00m:\n\u001b[1;32m   3806\u001b[0m     \u001b[38;5;66;03m# If we have a listlike key, _check_indexing_error will raise\u001b[39;00m\n\u001b[1;32m   3807\u001b[0m     \u001b[38;5;66;03m#  InvalidIndexError. Otherwise we fall through and re-raise\u001b[39;00m\n\u001b[1;32m   3808\u001b[0m     \u001b[38;5;66;03m#  the TypeError.\u001b[39;00m\n\u001b[1;32m   3809\u001b[0m     \u001b[38;5;28mself\u001b[39m\u001b[38;5;241m.\u001b[39m_check_indexing_error(key)\n",
      "\u001b[0;31mKeyError\u001b[0m: 'cell'"
     ]
    }
   ],
   "source": [
    "adata.obs.index = adata.obs['cell']\n",
    "del adata.obs['cell']"
   ]
  },
  {
   "cell_type": "markdown",
   "metadata": {},
   "source": [
    "## Back to csr matrix"
   ]
  },
  {
   "cell_type": "code",
   "execution_count": 28,
   "metadata": {},
   "outputs": [
    {
     "name": "stdout",
     "output_type": "stream",
     "text": [
      "CPU times: user 54.3 ms, sys: 4.78 ms, total: 59.1 ms\n",
      "Wall time: 58.3 ms\n"
     ]
    }
   ],
   "source": [
    "%%time\n",
    "@dask.delayed\n",
    "def get_chunk(c): \n",
    "    return c\n",
    "\n",
    "chunks = adata.X.to_delayed().ravel()\n",
    "results = [da.from_delayed(get_chunk(c), shape = chunk_size, dtype = np.float32) for c in chunks]\n",
    "arr = da.concatenate(results, axis = 0, allow_unknown_chunksizes = True)"
   ]
  },
  {
   "cell_type": "code",
   "execution_count": 29,
   "metadata": {},
   "outputs": [
    {
     "data": {
      "text/html": [
       "<table>\n",
       "    <tr>\n",
       "        <td>\n",
       "            <table style=\"border-collapse: collapse;\">\n",
       "                <thead>\n",
       "                    <tr>\n",
       "                        <td> </td>\n",
       "                        <th> Array </th>\n",
       "                        <th> Chunk </th>\n",
       "                    </tr>\n",
       "                </thead>\n",
       "                <tbody>\n",
       "                    \n",
       "                    <tr>\n",
       "                        <th> Bytes </th>\n",
       "                        <td> -2180000 B </td>\n",
       "                        <td> -20000 B </td>\n",
       "                    </tr>\n",
       "                    \n",
       "                    <tr>\n",
       "                        <th> Shape </th>\n",
       "                        <td> (545000, -1) </td>\n",
       "                        <td> (5000, -1) </td>\n",
       "                    </tr>\n",
       "                    <tr>\n",
       "                        <th> Dask graph </th>\n",
       "                        <td colspan=\"2\"> 109 chunks in 220 graph layers </td>\n",
       "                    </tr>\n",
       "                    <tr>\n",
       "                        <th> Data type </th>\n",
       "                        <td colspan=\"2\"> float32 numpy.ndarray </td>\n",
       "                    </tr>\n",
       "                </tbody>\n",
       "            </table>\n",
       "        </td>\n",
       "        <td>\n",
       "        <svg width=\"75\" height=\"170\" style=\"stroke:rgb(0,0,0);stroke-width:1\" >\n",
       "\n",
       "  <!-- Horizontal lines -->\n",
       "  <line x1=\"0\" y1=\"0\" x2=\"25\" y2=\"0\" style=\"stroke-width:2\" />\n",
       "  <line x1=\"0\" y1=\"5\" x2=\"25\" y2=\"5\" />\n",
       "  <line x1=\"0\" y1=\"12\" x2=\"25\" y2=\"12\" />\n",
       "  <line x1=\"0\" y1=\"18\" x2=\"25\" y2=\"18\" />\n",
       "  <line x1=\"0\" y1=\"24\" x2=\"25\" y2=\"24\" />\n",
       "  <line x1=\"0\" y1=\"30\" x2=\"25\" y2=\"30\" />\n",
       "  <line x1=\"0\" y1=\"37\" x2=\"25\" y2=\"37\" />\n",
       "  <line x1=\"0\" y1=\"44\" x2=\"25\" y2=\"44\" />\n",
       "  <line x1=\"0\" y1=\"49\" x2=\"25\" y2=\"49\" />\n",
       "  <line x1=\"0\" y1=\"56\" x2=\"25\" y2=\"56\" />\n",
       "  <line x1=\"0\" y1=\"62\" x2=\"25\" y2=\"62\" />\n",
       "  <line x1=\"0\" y1=\"69\" x2=\"25\" y2=\"69\" />\n",
       "  <line x1=\"0\" y1=\"74\" x2=\"25\" y2=\"74\" />\n",
       "  <line x1=\"0\" y1=\"81\" x2=\"25\" y2=\"81\" />\n",
       "  <line x1=\"0\" y1=\"88\" x2=\"25\" y2=\"88\" />\n",
       "  <line x1=\"0\" y1=\"94\" x2=\"25\" y2=\"94\" />\n",
       "  <line x1=\"0\" y1=\"100\" x2=\"25\" y2=\"100\" />\n",
       "  <line x1=\"0\" y1=\"106\" x2=\"25\" y2=\"106\" />\n",
       "  <line x1=\"0\" y1=\"113\" x2=\"25\" y2=\"113\" />\n",
       "  <line x1=\"0\" y1=\"120\" x2=\"25\" y2=\"120\" style=\"stroke-width:2\" />\n",
       "\n",
       "  <!-- Vertical lines -->\n",
       "  <line x1=\"0\" y1=\"0\" x2=\"0\" y2=\"120\" style=\"stroke-width:2\" />\n",
       "  <line x1=\"25\" y1=\"0\" x2=\"25\" y2=\"120\" style=\"stroke-width:2\" />\n",
       "\n",
       "  <!-- Colored Rectangle -->\n",
       "  <polygon points=\"0.0,0.0 25.412616514582485,0.0 25.412616514582485,120.0 0.0,120.0\" style=\"fill:#8B4903A0;stroke-width:0\"/>\n",
       "\n",
       "  <!-- Text -->\n",
       "  <text x=\"12.706308\" y=\"140.000000\" font-size=\"1.0rem\" font-weight=\"100\" text-anchor=\"middle\" >-1</text>\n",
       "  <text x=\"45.412617\" y=\"60.000000\" font-size=\"1.0rem\" font-weight=\"100\" text-anchor=\"middle\" transform=\"rotate(-90,45.412617,60.000000)\">545000</text>\n",
       "</svg>\n",
       "        </td>\n",
       "    </tr>\n",
       "</table>"
      ],
      "text/plain": [
       "dask.array<concatenate, shape=(545000, -1), dtype=float32, chunksize=(5000, -1), chunktype=numpy.ndarray>"
      ]
     },
     "execution_count": 29,
     "metadata": {},
     "output_type": "execute_result"
    }
   ],
   "source": [
    "arr"
   ]
  },
  {
   "cell_type": "code",
   "execution_count": 30,
   "metadata": {},
   "outputs": [],
   "source": [
    "#arr.visualize()"
   ]
  },
  {
   "cell_type": "code",
   "execution_count": 31,
   "metadata": {},
   "outputs": [
    {
     "name": "stderr",
     "output_type": "stream",
     "text": [
      "/home/schroel1/miniconda3/envs/gpu2/lib/python3.10/site-packages/scipy/sparse/_index.py:145: SparseEfficiencyWarning: Changing the sparsity structure of a csr_matrix is expensive. lil_matrix is more efficient.\n",
      "  self._set_arrayXarray(i, j, x)\n"
     ]
    },
    {
     "name": "stdout",
     "output_type": "stream",
     "text": [
      "CPU times: user 26min 29s, sys: 2min 3s, total: 28min 32s\n",
      "Wall time: 3min 49s\n"
     ]
    }
   ],
   "source": [
    "%%time\n",
    "adata_x = arr.compute()"
   ]
  },
  {
   "cell_type": "code",
   "execution_count": 32,
   "metadata": {},
   "outputs": [
    {
     "data": {
      "text/plain": [
       "<543390x28652 sparse matrix of type '<class 'numpy.float32'>'\n",
       "\twith 3350555488 stored elements in Compressed Sparse Row format>"
      ]
     },
     "execution_count": 32,
     "metadata": {},
     "output_type": "execute_result"
    }
   ],
   "source": [
    "adata_x"
   ]
  },
  {
   "cell_type": "code",
   "execution_count": 33,
   "metadata": {},
   "outputs": [],
   "source": [
    "adata.X = adata_x"
   ]
  },
  {
   "cell_type": "markdown",
   "metadata": {},
   "source": [
    "## Saving data to disk"
   ]
  },
  {
   "cell_type": "code",
   "execution_count": 34,
   "metadata": {},
   "outputs": [],
   "source": [
    "adata.obs.to_csv(\"/data/hadjantalab/lucas/atlas/data/dask/adata_obs.csv\", index = 'cell')\n",
    "adata.var.to_csv(\"/data/hadjantalab/lucas/atlas/data/dask/adata_var.csv\")"
   ]
  },
  {
   "cell_type": "code",
   "execution_count": 35,
   "metadata": {},
   "outputs": [
    {
     "name": "stdout",
     "output_type": "stream",
     "text": [
      "CPU times: user 36min 58s, sys: 20.7 s, total: 37min 18s\n",
      "Wall time: 4min 22s\n"
     ]
    }
   ],
   "source": [
    "%%time\n",
    "mmwrite(\"/data/hadjantalab/lucas/atlas/data/dask/adata_X.mtx\", a = adata_x)\n"
   ]
  },
  {
   "cell_type": "code",
   "execution_count": 36,
   "metadata": {},
   "outputs": [],
   "source": [
    "def save_sparse_csr(filename, array):\n",
    "    np.savez(filename, data=array.data, indices=array.indices,\n",
    "             indptr=array.indptr, shape=array.shape)"
   ]
  },
  {
   "cell_type": "code",
   "execution_count": 37,
   "metadata": {},
   "outputs": [
    {
     "name": "stdout",
     "output_type": "stream",
     "text": [
      "CPU times: user 33.2 s, sys: 7.32 s, total: 40.5 s\n",
      "Wall time: 41 s\n"
     ]
    }
   ],
   "source": [
    "%%time\n",
    "save_sparse_csr(\"/data/hadjantalab/lucas/atlas/data/dask/adata_X.npz\", adata_x)"
   ]
  }
 ],
 "metadata": {
  "kernelspec": {
   "display_name": "gpu2",
   "language": "python",
   "name": "gpu2"
  },
  "language_info": {
   "codemirror_mode": {
    "name": "ipython",
    "version": 3
   },
   "file_extension": ".py",
   "mimetype": "text/x-python",
   "name": "python",
   "nbconvert_exporter": "python",
   "pygments_lexer": "ipython3",
   "version": "3.10.13"
  }
 },
 "nbformat": 4,
 "nbformat_minor": 4
}
